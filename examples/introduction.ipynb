{
 "cells": [
  {
   "cell_type": "code",
   "execution_count": null,
   "metadata": {
    "execution": {
     "iopub.execute_input": "2024-08-22T09:47:27.464410Z",
     "iopub.status.busy": "2024-08-22T09:47:27.464121Z",
     "iopub.status.idle": "2024-08-22T09:47:27.557609Z",
     "shell.execute_reply": "2024-08-22T09:47:27.556883Z",
     "shell.execute_reply.started": "2024-08-22T09:47:27.464384Z"
    },
    "tags": []
   },
   "outputs": [],
   "source": [
    "from jupyter_bbox_widget import BBoxWidget\n",
    "import ipywidgets as widgets\n",
    "import os\n",
    "import json"
   ]
  },
  {
   "cell_type": "markdown",
   "metadata": {},
   "source": [
    "\n",
    "# jupyter_bbox_widget\n",
    "\n",
    "It's a custom widget that helps you annotate images for object detection tasks.\n",
    "\n",
    "## Introduction\n",
    "\n",
    "Initialize the widget with an image path and a list of classes.\n",
    "\n",
    "Click and drag anywhere on the image to create bboxes, move and resize them as necessary.\n"
   ]
  },
  {
   "cell_type": "code",
   "execution_count": null,
   "metadata": {
    "execution": {
     "iopub.execute_input": "2024-08-22T09:47:28.464614Z",
     "iopub.status.busy": "2024-08-22T09:47:28.464234Z",
     "iopub.status.idle": "2024-08-22T09:47:28.479872Z",
     "shell.execute_reply": "2024-08-22T09:47:28.478190Z",
     "shell.execute_reply.started": "2024-08-22T09:47:28.464584Z"
    },
    "tags": []
   },
   "outputs": [],
   "source": [
    "widget = BBoxWidget(\n",
    "    image='fruit/fruit.jpg',\n",
    "    classes=['apple', 'orange', 'pear'],\n",
    ")\n",
    "widget"
   ]
  },
  {
   "cell_type": "markdown",
   "metadata": {},
   "source": [
    "Access the current state of bboxes like this:"
   ]
  },
  {
   "cell_type": "code",
   "execution_count": null,
   "metadata": {
    "execution": {
     "iopub.execute_input": "2024-08-22T09:30:10.502296Z",
     "iopub.status.busy": "2024-08-22T09:30:10.501700Z",
     "iopub.status.idle": "2024-08-22T09:30:10.513352Z",
     "shell.execute_reply": "2024-08-22T09:30:10.511740Z",
     "shell.execute_reply.started": "2024-08-22T09:30:10.502208Z"
    },
    "tags": []
   },
   "outputs": [],
   "source": [
    "widget.bboxes"
   ]
  },
  {
   "cell_type": "markdown",
   "metadata": {},
   "source": [
    "## A simple annotation workflow\n",
    "\n",
    "Let's say we have a folder of image files that we would like to create annotations for."
   ]
  },
  {
   "cell_type": "code",
   "execution_count": null,
   "metadata": {
    "execution": {
     "iopub.execute_input": "2024-08-22T09:47:33.028164Z",
     "iopub.status.busy": "2024-08-22T09:47:33.027275Z",
     "iopub.status.idle": "2024-08-22T09:47:33.038905Z",
     "shell.execute_reply": "2024-08-22T09:47:33.036286Z",
     "shell.execute_reply.started": "2024-08-22T09:47:33.028082Z"
    },
    "tags": []
   },
   "outputs": [],
   "source": [
    "path = 'fruit'\n",
    "files = sorted(os.listdir(path))\n",
    "\n",
    "annotations = {}\n",
    "annotations_path = 'annotations.json'"
   ]
  },
  {
   "cell_type": "markdown",
   "metadata": {},
   "source": [
    "We'll use a `BBoxWidget` for creating annotations for an image. It already has \"Submit\" and \"Skip\" buttons for going through our list of images. Let's also add a progress bar - from the `ipywidgets` library."
   ]
  },
  {
   "cell_type": "code",
   "execution_count": null,
   "metadata": {
    "execution": {
     "iopub.execute_input": "2024-08-22T09:47:33.543692Z",
     "iopub.status.busy": "2024-08-22T09:47:33.542435Z",
     "iopub.status.idle": "2024-08-22T09:47:33.560997Z",
     "shell.execute_reply": "2024-08-22T09:47:33.559930Z",
     "shell.execute_reply.started": "2024-08-22T09:47:33.543659Z"
    },
    "tags": []
   },
   "outputs": [],
   "source": [
    "# a progress bar to show how far we got\n",
    "w_progress = widgets.IntProgress(value=0, max=len(files), description='Progress')\n",
    "# the bbox widget\n",
    "w_bbox = BBoxWidget(\n",
    "    image = os.path.join(path, files[0]),\n",
    "    classes=['apple', 'orange', 'pear']\n",
    ")\n",
    "\n",
    "# combine widgets into a container\n",
    "w_container = widgets.VBox([\n",
    "    w_progress,\n",
    "    w_bbox,\n",
    "])"
   ]
  },
  {
   "cell_type": "markdown",
   "metadata": {},
   "source": [
    "Define the functions to process clicks on our Submit and Skip buttons.\n",
    "\n",
    "You can use the widget's `on_skip` and `on_submit` methods as decorators on the functions."
   ]
  },
  {
   "cell_type": "code",
   "execution_count": null,
   "metadata": {
    "execution": {
     "iopub.execute_input": "2024-08-22T09:47:34.265719Z",
     "iopub.status.busy": "2024-08-22T09:47:34.265437Z",
     "iopub.status.idle": "2024-08-22T09:47:34.270531Z",
     "shell.execute_reply": "2024-08-22T09:47:34.269880Z",
     "shell.execute_reply.started": "2024-08-22T09:47:34.265692Z"
    },
    "tags": []
   },
   "outputs": [],
   "source": [
    "# when Skip button is pressed we move on to the next file\n",
    "@w_bbox.on_skip\n",
    "def skip():\n",
    "    w_progress.value += 1\n",
    "    # open new image in the widget\n",
    "    image_file = files[w_progress.value]\n",
    "    w_bbox.image = os.path.join(path, image_file)\n",
    "    # here we assign an empty list to bboxes but \n",
    "    # we could also run a detection model on the file\n",
    "    # and use its output for creating inital bboxes\n",
    "    w_bbox.bboxes = [] \n",
    "\n",
    "# when Submit button is pressed we save current annotations\n",
    "# and then move on to the next file\n",
    "@w_bbox.on_submit\n",
    "def submit():\n",
    "    image_file = files[w_progress.value]\n",
    "    # save annotations for current image\n",
    "    annotations[image_file] = w_bbox.bboxes\n",
    "    with open(annotations_path, 'w') as f:\n",
    "        json.dump(annotations, f, indent=4)\n",
    "    # move on to the next file\n",
    "    skip()"
   ]
  },
  {
   "cell_type": "markdown",
   "metadata": {},
   "source": [
    "Or if you don't like the decorators syntax you can assign the functions manually like this:"
   ]
  },
  {
   "cell_type": "code",
   "execution_count": null,
   "metadata": {
    "execution": {
     "iopub.execute_input": "2024-08-22T09:47:37.227928Z",
     "iopub.status.busy": "2024-08-22T09:47:37.226257Z",
     "iopub.status.idle": "2024-08-22T09:47:37.235628Z",
     "shell.execute_reply": "2024-08-22T09:47:37.233406Z",
     "shell.execute_reply.started": "2024-08-22T09:47:37.227852Z"
    },
    "tags": []
   },
   "outputs": [],
   "source": [
    "# w_bbox.on_skip(skip)\n",
    "# w_bbox.on_submit(submit);"
   ]
  },
  {
   "cell_type": "markdown",
   "metadata": {},
   "source": [
    "Now we display the container widget and we are ready to annotate."
   ]
  },
  {
   "cell_type": "code",
   "execution_count": null,
   "metadata": {
    "execution": {
     "iopub.execute_input": "2024-08-22T09:47:37.842578Z",
     "iopub.status.busy": "2024-08-22T09:47:37.841662Z",
     "iopub.status.idle": "2024-08-22T09:47:37.851355Z",
     "shell.execute_reply": "2024-08-22T09:47:37.849508Z",
     "shell.execute_reply.started": "2024-08-22T09:47:37.842491Z"
    },
    "tags": []
   },
   "outputs": [],
   "source": [
    "w_container"
   ]
  },
  {
   "cell_type": "markdown",
   "metadata": {},
   "source": [
    "The last image has more fruit kinds than we anticipated, so we can just add more classes to the list and keep going:"
   ]
  },
  {
   "cell_type": "code",
   "execution_count": null,
   "metadata": {
    "execution": {
     "iopub.execute_input": "2024-08-22T09:47:45.900947Z",
     "iopub.status.busy": "2024-08-22T09:47:45.900111Z",
     "iopub.status.idle": "2024-08-22T09:47:45.911951Z",
     "shell.execute_reply": "2024-08-22T09:47:45.909811Z",
     "shell.execute_reply.started": "2024-08-22T09:47:45.900871Z"
    },
    "tags": []
   },
   "outputs": [],
   "source": [
    "w_bbox.classes = w_bbox.classes + ['lemon', 'grapefruit']"
   ]
  },
  {
   "cell_type": "markdown",
   "metadata": {},
   "source": [
    "To verify the saved annotations we can look at the annotations file contents:"
   ]
  },
  {
   "cell_type": "code",
   "execution_count": null,
   "metadata": {
    "execution": {
     "iopub.execute_input": "2024-08-22T09:47:52.261915Z",
     "iopub.status.busy": "2024-08-22T09:47:52.261605Z",
     "iopub.status.idle": "2024-08-22T09:47:52.266202Z",
     "shell.execute_reply": "2024-08-22T09:47:52.265360Z",
     "shell.execute_reply.started": "2024-08-22T09:47:52.261890Z"
    },
    "tags": []
   },
   "outputs": [],
   "source": [
    "with open(annotations_path, 'r') as f:\n",
    "    print(f.read())"
   ]
  },
  {
   "cell_type": "code",
   "execution_count": null,
   "metadata": {},
   "outputs": [],
   "source": []
  },
  {
   "cell_type": "markdown",
   "metadata": {
    "tags": []
   },
   "source": [
    "## Display special images\n",
    "\n",
    "The `image` property of the widget expects either a local path to an image file or a web url.\n",
    "\n",
    "If your image has a non-common format or requires special handling then the way to display it is to save it into a in-memory bytes buffer and assign the result to `widget.image_bytes`:"
   ]
  },
  {
   "cell_type": "code",
   "execution_count": null,
   "metadata": {
    "execution": {
     "iopub.execute_input": "2024-08-22T09:48:25.937013Z",
     "iopub.status.busy": "2024-08-22T09:48:25.935825Z",
     "iopub.status.idle": "2024-08-22T09:48:25.994436Z",
     "shell.execute_reply": "2024-08-22T09:48:25.993283Z",
     "shell.execute_reply.started": "2024-08-22T09:48:25.936922Z"
    },
    "tags": []
   },
   "outputs": [],
   "source": [
    "# suppose this image is some fancy microscopy data\n",
    "from PIL import Image\n",
    "from io import BytesIO\n",
    "image = Image.open('fruit/fruit2.jpg')\n",
    "\n",
    "bytes_io = BytesIO()\n",
    "image.save(bytes_io, format='jpeg')\n",
    "widget.image_bytes = bytes_io.getvalue()"
   ]
  },
  {
   "cell_type": "markdown",
   "metadata": {},
   "source": [
    "I'm open to suggestions on how to make this more user-friendly."
   ]
  },
  {
   "cell_type": "markdown",
   "metadata": {},
   "source": [
    "## Recording additional data\n",
    "\n",
    "Sometimes you need more information about the object than just a location and a class label. For example, you might want to specify whether the object is in focus or blurred, record its size or other properties.\n",
    "\n",
    "`BBoxWidget` lets you select a bbox (by clicking on it or with a `Tab`/`Shift-Tab` keyboard shortcut). The selected bbox is displayed with a thicker border. And its index is exposed in the `selected_index` widget trait. This makes it possible to use other widgets to edit additional properties of the selected bbox.\n",
    "\n",
    "To facilitate this process `BBoxWidget` has an `attach` method that lets you attach another widget for editing an additional bbox property. \n",
    "\n",
    "For example, we want to apply a rating on a scale from 1 to 5 to every object in the image. Then we create a slider widget to edit the rating values:\n",
    "\n",
    "```\n",
    "w_rating = widgets.IntSlider(value=3, min=1, max=5, description='Rating')\n",
    "```\n",
    "\n",
    "And we attach it to the bbox widget.\n",
    "\n",
    "```\n",
    "w_bbox.attach(w_rating, name='rating')\n",
    "```\n",
    "\n",
    "As a result:\n",
    "\n",
    "- Attached widget's value (`3` in this example) is used as the default `rating` value for new bboxes. Each newly created bbox will get a `rating` property with a value of `3` in addition to the usual `x`, `y`, `width`, `height` and `label`.\n",
    "- When a bbox is selected the slider value will be set to bbox's `rating`.\n",
    "- When you change the slider value then the new value is recorded in the selected bbox's `rating` property.\n",
    "- When no bboxes are selected the attached widget will be disabled.\n",
    "\n",
    "You can attach any number of widgets to the `BBoxWidget`. Displaying the attached widgets is left to you so you can make a layout that matches your use case.\n",
    "\n",
    "### An example of attached widgets\n",
    "\n",
    "Here's an example of using two attached widgets for two additional properties (`size` and `in_focus`). The output widget below will show live updates of bbox annotations as you play with the controls."
   ]
  },
  {
   "cell_type": "code",
   "execution_count": null,
   "metadata": {
    "execution": {
     "iopub.execute_input": "2024-08-22T09:48:53.465952Z",
     "iopub.status.busy": "2024-08-22T09:48:53.465652Z",
     "iopub.status.idle": "2024-08-22T09:48:53.485390Z",
     "shell.execute_reply": "2024-08-22T09:48:53.484751Z",
     "shell.execute_reply.started": "2024-08-22T09:48:53.465927Z"
    },
    "tags": []
   },
   "outputs": [],
   "source": [
    "w_bbox = BBoxWidget(\n",
    "    image='fruit/fruit.jpg',\n",
    "    classes=['apple', 'orange', 'pear'],\n",
    ")\n",
    "# a slider to record size\n",
    "w_size = widgets.IntSlider(value=2, min=1, max=3, description='Size')\n",
    "# a checkbox to record if the object is in focus\n",
    "w_focus = widgets.Checkbox(value=True, description='Object is in focus')\n",
    "\n",
    "w_bbox.attach(w_size, name='size')\n",
    "w_bbox.attach(w_focus, name='in_focus')\n",
    "\n",
    "# the output widget will show current state of bbox annotations\n",
    "# as you play with the controls\n",
    "w_out = widgets.Output()\n",
    "def on_bbox_change(change):\n",
    "    w_out.clear_output(wait=True)\n",
    "    with w_out:\n",
    "        print(json.dumps(change['new'], indent=4))\n",
    "w_bbox.observe(on_bbox_change, names=['bboxes'])\n",
    "\n",
    "w_container = widgets.VBox([\n",
    "    w_bbox,\n",
    "    widgets.HBox([\n",
    "        w_size,\n",
    "        w_focus,\n",
    "    ]),\n",
    "    w_out,\n",
    "])\n",
    "w_container"
   ]
  },
  {
   "cell_type": "code",
   "execution_count": null,
   "metadata": {},
   "outputs": [],
   "source": []
  },
  {
   "cell_type": "code",
   "execution_count": null,
   "metadata": {},
   "outputs": [],
   "source": []
  },
  {
   "cell_type": "code",
   "execution_count": null,
   "metadata": {},
   "outputs": [],
   "source": []
  },
  {
   "cell_type": "code",
   "execution_count": null,
   "metadata": {},
   "outputs": [],
   "source": []
  },
  {
   "cell_type": "code",
   "execution_count": null,
   "metadata": {},
   "outputs": [],
   "source": []
  },
  {
   "cell_type": "code",
   "execution_count": null,
   "metadata": {},
   "outputs": [],
   "source": []
  },
  {
   "cell_type": "code",
   "execution_count": null,
   "metadata": {},
   "outputs": [],
   "source": []
  }
 ],
 "metadata": {
  "kernelspec": {
   "display_name": "torchenv",
   "language": "python",
   "name": "torchenv"
  },
  "language_info": {
   "codemirror_mode": {
    "name": "ipython",
    "version": 3
   },
   "file_extension": ".py",
   "mimetype": "text/x-python",
   "name": "python",
   "nbconvert_exporter": "python",
   "pygments_lexer": "ipython3",
   "version": "3.10.8"
  }
 },
 "nbformat": 4,
 "nbformat_minor": 4
}
