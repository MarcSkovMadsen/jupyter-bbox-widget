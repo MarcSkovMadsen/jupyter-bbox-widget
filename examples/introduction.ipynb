{
 "cells": [
  {
   "cell_type": "code",
   "execution_count": 1,
   "metadata": {},
   "outputs": [],
   "source": [
    "from jupyter_bbox_widget import BBoxWidget\n",
    "import ipywidgets as widgets\n",
    "import os\n",
    "import json"
   ]
  },
  {
   "cell_type": "markdown",
   "metadata": {},
   "source": [
    "\n",
    "# jupyter_bbox_widget\n",
    "\n",
    "It's a custom widget that helps you annotate images for object detection tasks.\n",
    "\n",
    "## Introduction\n",
    "\n",
    "Initialize the widget with an image path and a list of classes.\n",
    "\n",
    "Click and drag anywhere on the image to create bboxes, move and resize them as necessary.\n"
   ]
  },
  {
   "cell_type": "code",
   "execution_count": 2,
   "metadata": {},
   "outputs": [
    {
     "data": {
      "application/vnd.jupyter.widget-view+json": {
       "model_id": "4621ced1e2eb475fa05d4a474e97da07",
       "version_major": 2,
       "version_minor": 1
      },
      "text/plain": [
       "BBoxWidget(classes=['apple', 'orange', 'pear'], colors=['#1f77b4', '#ff7f0e', '#2ca02c', '#d62728', '#9467bd',…"
      ]
     },
     "execution_count": 2,
     "metadata": {},
     "output_type": "execute_result"
    }
   ],
   "source": [
    "widget = BBoxWidget(\n",
    "    image='fruit/fruit.jpg',\n",
    "    classes=['apple', 'orange', 'pear'],\n",
    ")\n",
    "widget"
   ]
  },
  {
   "cell_type": "markdown",
   "metadata": {},
   "source": [
    "Access the current state of bboxes like this:"
   ]
  },
  {
   "cell_type": "code",
   "execution_count": 3,
   "metadata": {},
   "outputs": [
    {
     "data": {
      "text/plain": [
       "[]"
      ]
     },
     "execution_count": 3,
     "metadata": {},
     "output_type": "execute_result"
    }
   ],
   "source": [
    "widget.bboxes"
   ]
  },
  {
   "cell_type": "code",
   "execution_count": null,
   "metadata": {},
   "outputs": [],
   "source": []
  },
  {
   "cell_type": "code",
   "execution_count": 5,
   "metadata": {},
   "outputs": [],
   "source": [
    "from pathlib import Path\n",
    "import base64\n",
    "\n",
    "data = Path('fruit/fruit2.jpg').read_bytes()\n",
    "encoded = str(base64.b64encode(data), 'utf-8')\n",
    "widget.image = \"data:image/jpg;base64,\"+encoded"
   ]
  },
  {
   "cell_type": "code",
   "execution_count": null,
   "metadata": {},
   "outputs": [],
   "source": []
  },
  {
   "cell_type": "markdown",
   "metadata": {},
   "source": [
    "## A simple annotation workflow\n",
    "\n",
    "Let's say we have a folder of image files that we would like to create annotations for."
   ]
  },
  {
   "cell_type": "code",
   "execution_count": null,
   "metadata": {},
   "outputs": [],
   "source": [
    "path = 'fruit'\n",
    "files = sorted(os.listdir(path))\n",
    "\n",
    "annotations = {}\n",
    "annotations_path = 'annotations.json'"
   ]
  },
  {
   "cell_type": "markdown",
   "metadata": {},
   "source": [
    "We'll use a `BBoxWidget` for creating annotations for an image. It already has \"Submit\" and \"Skip\" buttons for going through our list of images. Let's also add a progress bar - from the `ipywidgets` library."
   ]
  },
  {
   "cell_type": "code",
   "execution_count": null,
   "metadata": {},
   "outputs": [],
   "source": [
    "# a progress bar to show how far we got\n",
    "w_progress = widgets.IntProgress(value=0, max=len(files), description='Progress')\n",
    "# the bbox widget\n",
    "w_bbox = BBoxWidget(\n",
    "    image = os.path.join(path, files[0]),\n",
    "    classes=['apple', 'orange', 'pear']\n",
    ")\n",
    "\n",
    "# combine widgets into a container\n",
    "w_container = widgets.VBox([\n",
    "    w_progress,\n",
    "    w_bbox,\n",
    "])"
   ]
  },
  {
   "cell_type": "markdown",
   "metadata": {},
   "source": [
    "Define the functions to process clicks on our Submit and Skip buttons.\n",
    "\n",
    "You can use the widget's `on_skip` and `on_submit` methods as decorators on the functions."
   ]
  },
  {
   "cell_type": "code",
   "execution_count": null,
   "metadata": {},
   "outputs": [],
   "source": [
    "# when Skip button is pressed we move on to the next file\n",
    "@w_bbox.on_skip\n",
    "def skip():\n",
    "    w_progress.value += 1\n",
    "    # open new image in the widget\n",
    "    image_file = files[w_progress.value]\n",
    "    w_bbox.image = os.path.join(path, image_file)\n",
    "    # here we assign an empty list to bboxes but \n",
    "    # we could also run a detection model on the file\n",
    "    # and use its output for creating inital bboxes\n",
    "    w_bbox.bboxes = [] \n",
    "\n",
    "# when Submit button is pressed we save current annotations\n",
    "# and then move on to the next file\n",
    "@w_bbox.on_submit\n",
    "def submit():\n",
    "    image_file = files[w_progress.value]\n",
    "    # save annotations for current image\n",
    "    annotations[image_file] = w_bbox.bboxes\n",
    "    with open(annotations_path, 'w') as f:\n",
    "        json.dump(annotations, f, indent=4)\n",
    "    # move on to the next file\n",
    "    skip()"
   ]
  },
  {
   "cell_type": "markdown",
   "metadata": {},
   "source": [
    "Or if you don't like the decorators syntax you can assign the functions manually like this:"
   ]
  },
  {
   "cell_type": "code",
   "execution_count": null,
   "metadata": {},
   "outputs": [],
   "source": [
    "# w_bbox.on_skip(skip)\n",
    "# w_bbox.on_submit(submit);"
   ]
  },
  {
   "cell_type": "markdown",
   "metadata": {},
   "source": [
    "Now we display the container widget and we are ready to annotate."
   ]
  },
  {
   "cell_type": "code",
   "execution_count": null,
   "metadata": {},
   "outputs": [],
   "source": [
    "w_container"
   ]
  },
  {
   "cell_type": "markdown",
   "metadata": {},
   "source": [
    "The last image has more fruit kinds than we anticipated, so we can just add more classes to the list and keep going:"
   ]
  },
  {
   "cell_type": "code",
   "execution_count": null,
   "metadata": {},
   "outputs": [],
   "source": [
    "w_bbox.classes = w_bbox.classes + ['lemon', 'grapefruit']"
   ]
  },
  {
   "cell_type": "markdown",
   "metadata": {},
   "source": [
    "To verify the saved annotations we can look at the annotations file contents:"
   ]
  },
  {
   "cell_type": "code",
   "execution_count": null,
   "metadata": {},
   "outputs": [],
   "source": [
    "with open(annotations_path, 'r') as f:\n",
    "    print(f.read())"
   ]
  },
  {
   "cell_type": "code",
   "execution_count": null,
   "metadata": {},
   "outputs": [],
   "source": []
  },
  {
   "cell_type": "markdown",
   "metadata": {},
   "source": [
    "## Display special images\n",
    "\n",
    "The `image` property of the widget expects either a local path to an image file or a web url.\n",
    "\n",
    "If your image has a non-common format or requires special handling then the way to display it is to save it into a in-memory bytes buffer and assign the result to `widget.image_bytes`:"
   ]
  },
  {
   "cell_type": "code",
   "execution_count": null,
   "metadata": {},
   "outputs": [],
   "source": [
    "# suppose this image is some fancy microscopy data\n",
    "from PIL import Image\n",
    "from io import BytesIO\n",
    "image = Image.open('fruit/fruit2.jpg')\n",
    "\n",
    "bytes_io = BytesIO()\n",
    "image.save(bytes_io, format='jpeg')\n",
    "widget.image_bytes = bytes_io.getvalue()"
   ]
  },
  {
   "cell_type": "markdown",
   "metadata": {},
   "source": [
    "I'm open to suggestions on how to make this more user-friendly."
   ]
  },
  {
   "cell_type": "markdown",
   "metadata": {},
   "source": [
    "## Recording additional data\n",
    "\n",
    "Sometimes you need more information about the object than just a location and a class label. For example, you might want to specify whether the object is in focus or blurred, record its size or other properties.\n",
    "\n",
    "`BBoxWidget` lets you select a bbox (by clicking on it or with a `Tab`/`Shift-Tab` keyboard shortcut). The selected bbox is displayed with a thicker border. And its index is exposed in the `selected_index` widget trait. This makes it possible to use other widgets to edit additional properties of the selected bbox.\n",
    "\n",
    "To facilitate this process `BBoxWidget` has an `attach` method that lets you attach another widget for editing an additional bbox property. \n",
    "\n",
    "For example, we want to apply a rating on a scale from 1 to 5 to every object in the image. Then we create a slider widget to edit the rating values:\n",
    "\n",
    "```\n",
    "w_rating = widgets.IntSlider(value=3, min=1, max=5, description='Rating')\n",
    "```\n",
    "\n",
    "And we attach it to the bbox widget.\n",
    "\n",
    "```\n",
    "w_bbox.attach(w_rating, name='rating')\n",
    "```\n",
    "\n",
    "As a result:\n",
    "\n",
    "- Attached widget's value (`3` in this example) is used as the default `rating` value for new bboxes. Each newly created bbox will get a `rating` property with a value of `3` in addition to the usual `x`, `y`, `width`, `height` and `label`.\n",
    "- When a bbox is selected the slider value will be set to bbox's `rating`.\n",
    "- When you change the slider value then the new value is recorded in the selected bbox's `rating` property.\n",
    "- When no bboxes are selected the attached widget will be disabled.\n",
    "\n",
    "You can attach any number of widgets to the `BBoxWidget`. Displaying the attached widgets is left to you so you can make a layout that matches your use case.\n",
    "\n",
    "### An example of attached widgets\n",
    "\n",
    "Here's an example of using two attached widgets for two additional properties (`size` and `in_focus`). The output widget below will show live updates of bbox annotations as you play with the controls."
   ]
  },
  {
   "cell_type": "code",
   "execution_count": null,
   "metadata": {},
   "outputs": [],
   "source": [
    "w_bbox = BBoxWidget(\n",
    "    image='fruit/fruit.jpg',\n",
    "    classes=['apple', 'orange', 'pear'],\n",
    ")\n",
    "# a slider to record size\n",
    "w_size = widgets.IntSlider(value=2, min=1, max=3, description='Size')\n",
    "# a checkbox to record if the object is in focus\n",
    "w_focus = widgets.Checkbox(value=True, description='Object is in focus')\n",
    "\n",
    "w_bbox.attach(w_size, name='size')\n",
    "w_bbox.attach(w_focus, name='in_focus')\n",
    "\n",
    "# the output widget will show current state of bbox annotations\n",
    "# as you play with the controls\n",
    "w_out = widgets.Output()\n",
    "def on_bbox_change(change):\n",
    "    w_out.clear_output(wait=True)\n",
    "    with w_out:\n",
    "        print(json.dumps(change['new'], indent=4))\n",
    "w_bbox.observe(on_bbox_change, names=['bboxes'])\n",
    "\n",
    "w_container = widgets.VBox([\n",
    "    w_bbox,\n",
    "    widgets.HBox([\n",
    "        w_size,\n",
    "        w_focus,\n",
    "    ]),\n",
    "    w_out,\n",
    "])\n",
    "w_container"
   ]
  },
  {
   "cell_type": "code",
   "execution_count": null,
   "metadata": {},
   "outputs": [],
   "source": []
  },
  {
   "cell_type": "code",
   "execution_count": null,
   "metadata": {},
   "outputs": [],
   "source": []
  },
  {
   "cell_type": "code",
   "execution_count": null,
   "metadata": {},
   "outputs": [],
   "source": []
  },
  {
   "cell_type": "code",
   "execution_count": null,
   "metadata": {},
   "outputs": [],
   "source": []
  },
  {
   "cell_type": "code",
   "execution_count": null,
   "metadata": {},
   "outputs": [],
   "source": []
  },
  {
   "cell_type": "code",
   "execution_count": null,
   "metadata": {},
   "outputs": [],
   "source": []
  },
  {
   "cell_type": "code",
   "execution_count": null,
   "metadata": {},
   "outputs": [],
   "source": []
  }
 ],
 "metadata": {},
 "nbformat": 4,
 "nbformat_minor": 4
}
